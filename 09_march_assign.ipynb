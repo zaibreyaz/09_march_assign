{
 "cells": [
  {
   "cell_type": "code",
   "execution_count": null,
   "id": "23bbbbfa-33cb-49a6-9931-e1bc6b340ef5",
   "metadata": {},
   "outputs": [],
   "source": [
    "\"\"\"Q1: What are the Probability Mass Function (PMF) and Probability Density Function (PDF)? Explain with an example.\n",
    "\n",
    "    Ans: The Probability Mass Function (PMF) is a function that gives the probability of each possible outcome in a discrete random variable. \n",
    "         For example, the PMF of rolling a fair six-sided dice is equal to 1/6 for each possible outcome (1,2,3,4,5,6).\n",
    "         The Probability Density Function (PDF) is a function that gives the probability of a continuous random variable falling within a particular range of values, \n",
    "         rather than the probability of a specific outcome. For example, the PDF of the normal distribution, a common statistical distribution, gives the probability \n",
    "         of a continuous variable falling within a range of values, such as the probability of a person's height falling within a certain range.\n",
    "\"\"\""
   ]
  },
  {
   "cell_type": "code",
   "execution_count": null,
   "id": "4ce7c161-c374-40bc-93f7-9b3f2bb88622",
   "metadata": {},
   "outputs": [],
   "source": [
    "\"\"\"Q2: What is Cumulative Density Function (CDF)? Explain with an example. Why CDF is used?\n",
    "\n",
    "    Ans: The Cumulative Density Function (CDF) is a function that gives the probability of a random variable being less than or equal to a certain value. \n",
    "         For example, the CDF of rolling a fair six-sided dice is equal to 0 when the value is less than 1 and equal to 1 when the value is greater than or equal to 6.\n",
    "         CDF is used to calculate the probability of a random variable falling within a certain range of values, and it provides a way to compare the probability of \n",
    "         different values. It is also useful for calculating percentiles, which are values below which a given percentage of observations fall.\n",
    "\"\"\""
   ]
  },
  {
   "cell_type": "code",
   "execution_count": null,
   "id": "98dbcde2-be1e-48ce-895f-bdb6d96458a6",
   "metadata": {},
   "outputs": [],
   "source": [
    "\"\"\"Q3: What are some examples of situations where the normal distribution might be used as a model? Explain how the parameters of the normal distribution \n",
    "        relate to the shape of the distribution.\n",
    "        \n",
    "    Ans: The normal distribution is often used to model natural phenomena such as the heights of individuals in a population or the weights of objects. \n",
    "         It can also be used to model measurement errors in scientific experiments or financial market fluctuations.\n",
    "         The parameters of the normal distribution are the mean and standard deviation. The mean controls the location of the center of the distribution, \n",
    "         while the standard deviation controls the spread of the distribution. If the standard deviation is small, the distribution will be tall and narrow, \n",
    "         whereas if it is large, the distribution will be flatter and wider.\n",
    "\"\"\""
   ]
  },
  {
   "cell_type": "code",
   "execution_count": null,
   "id": "3d265cf1-73f9-49c5-85e6-b86e71a3cb8f",
   "metadata": {},
   "outputs": [],
   "source": [
    "\"\"\"Q4: Explain the importance of Normal Distribution. Give a few real-life examples of Normal Distribution.\n",
    "\n",
    "    Ans: Normal distribution is important because it is a commonly observed pattern in nature and human behavior. \n",
    "         Many phenomena in the world follow a normal distribution, which allows us to make predictions and draw conclusions about them. \n",
    "         Some real-life examples include human height, IQ scores, and the weight of objects.\n",
    "         Normal distribution is also used in statistical analysis and modeling, as it provides a convenient framework for understanding the behavior of random variables. \n",
    "         It is often used in hypothesis testing and in making predictions about future events based on past observations. Overall, normal distribution is a useful \n",
    "         tool for understanding and analyzing many phenomena in the world around us.\n",
    "\"\"\""
   ]
  },
  {
   "cell_type": "code",
   "execution_count": null,
   "id": "6cb75aa1-29c7-4944-a2d1-f9993ccceae7",
   "metadata": {},
   "outputs": [],
   "source": [
    "\"\"\"Q5: What is Bernaulli Distribution? Give an Example. What is the difference between Bernoulli Distribution and Binomial Distribution?\n",
    "\n",
    "    Ans: The Bernoulli Distribution is a discrete probability distribution that models the outcomes of a single binary experiment, \n",
    "         where there are only two possible outcomes (success or failure). For example, a coin toss can be modeled using Bernoulli distribution, \n",
    "         where heads is considered success and tails as failure.\n",
    "         The main difference between Bernoulli and Binomial distribution is that Bernoulli only models a single trial or experiment, \n",
    "         while Binomial distribution models multiple trials or experiments with a fixed number of independent Bernoulli trials. In other words, \n",
    "         the Bernoulli distribution is a special case of the Binomial distribution where the number of trials is equal to 1. \n",
    "         Binomial distribution also includes additional parameters such as the number of trials and the probability of success in each trial.\n",
    "\"\"\""
   ]
  },
  {
   "cell_type": "code",
   "execution_count": null,
   "id": "2a88c3f5-021e-4123-b91b-5e5b7735c201",
   "metadata": {},
   "outputs": [],
   "source": [
    "\"\"\"Q6. Consider a dataset with a mean of 50 and a standard deviation of 10. If we assume that the dataset is normally distributed, what is the probability that \n",
    "        a randomly selected observation will be greater than 60? Use the appropriate formula and show your calculations.\n",
    "        \n",
    "    Ans: z = (x - μ) / σ\n",
    "         z = (60 - 50) / 10 = 1\n",
    "         from z table we get 0.84134\n",
    "         to get the probability = 1 - 0.84134 = 0.1587 = 15.87%\n",
    "         Therefore, the probability that a randomly selected observation from this normally distributed dataset will be greater than 60 is approximately 0.1587 or 15.87%.\n",
    "\"\"\""
   ]
  },
  {
   "cell_type": "code",
   "execution_count": null,
   "id": "d5fa607e-5da1-4c6a-903a-1e12c025054c",
   "metadata": {},
   "outputs": [],
   "source": [
    "\"\"\"Q7: Explain uniform Distribution with an example.\n",
    "\n",
    "    Ans: Uniform distribution is a probability distribution where all values within a given range are equally likely to occur. \n",
    "         For example, rolling a fair six-sided dice is an example of uniform distribution, as each of the six possible outcomes has an equal chance of occurring. \n",
    "         It is often used in probability theory and statistics to model random events where each possible outcome is equally likely.\n",
    "\"\"\""
   ]
  },
  {
   "cell_type": "code",
   "execution_count": null,
   "id": "27d3acd7-b69a-4c4e-af10-ec9f38f2e47c",
   "metadata": {},
   "outputs": [],
   "source": [
    "\"\"\"Q8: What is the z score? State the importance of the z score.\n",
    "\n",
    "    Ans: The z-score is a standardized score that represents how many standard deviations a data point is from the mean of the dataset. \n",
    "         It is calculated by subtracting the mean from the data point and dividing the result by the standard deviation. \n",
    "         The importance of the z-score is that it allows us to compare data points from different datasets on a common scale and make statistical inferences \n",
    "         about the probability of certain events occurring. It is commonly used in hypothesis testing, confidence interval calculations, and quality control.\n",
    "\"\"\""
   ]
  },
  {
   "cell_type": "code",
   "execution_count": null,
   "id": "5e3ef655-1c13-4e29-9f28-c1316967a33f",
   "metadata": {},
   "outputs": [],
   "source": [
    "\"\"\"Q9: What is Central Limit Theorem? State the significance of the Central Limit Theorem.\n",
    "\n",
    "    Ans:The Central Limit Theorem states that the distribution of the sample means of a large number of independent samples from any population \n",
    "        with a finite mean and variance will approximate a normal distribution, regardless of the shape of the original population distribution.\n",
    "        The significance of the Central Limit Theorem is that it provides a powerful tool for making statistical inferences about populations, \n",
    "        even when little is known about the underlying population distribution. It allows us to estimate population parameters such as the mean and variance, \n",
    "        and to make predictions about future events based on sample data.\n",
    "\"\"\""
   ]
  },
  {
   "cell_type": "code",
   "execution_count": null,
   "id": "0b1442e6-c7eb-42a3-b609-4343c9dd44cb",
   "metadata": {},
   "outputs": [],
   "source": [
    "\"\"\"Q10: State the assumptions of the Central Limit Theorem.\n",
    "\n",
    "    Ans: The Central Limit Theorem assumes that if we take a large enough sample size from any population, the sample mean of the population will be approximately \n",
    "         normally distributed, regardless of the shape of the population's distribution. Additionally, the samples must be independent and random.\n",
    "\"\"\""
   ]
  }
 ],
 "metadata": {
  "kernelspec": {
   "display_name": "Python 3 (ipykernel)",
   "language": "python",
   "name": "python3"
  },
  "language_info": {
   "codemirror_mode": {
    "name": "ipython",
    "version": 3
   },
   "file_extension": ".py",
   "mimetype": "text/x-python",
   "name": "python",
   "nbconvert_exporter": "python",
   "pygments_lexer": "ipython3",
   "version": "3.10.8"
  }
 },
 "nbformat": 4,
 "nbformat_minor": 5
}
